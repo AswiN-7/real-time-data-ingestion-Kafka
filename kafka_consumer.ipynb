{
 "cells": [
  {
   "cell_type": "code",
   "execution_count": 39,
   "id": "3a4a74c8",
   "metadata": {},
   "outputs": [],
   "source": [
    "from kafka import KafkaConsumer\n",
    "from time import sleep\n",
    "from json import dumps,loads\n",
    "import json\n",
    "import csv\n",
    "import boto3\n",
    "import datetime"
   ]
  },
  {
   "cell_type": "code",
   "execution_count": null,
   "id": "14215360",
   "metadata": {},
   "outputs": [],
   "source": [
    "aws_keys = open('./admin-free-tier_accessKeys.csv', 'r').readlines()\n",
    "aws_keys = csv.reader(aws_keys)\n",
    "aws_keys = [key for key in aws_keys][1]\n",
    "aws_access_key_id = aws_keys[0] \n",
    "aws_secret_access_key = aws_keys[1]"
   ]
  },
  {
   "cell_type": "code",
   "execution_count": null,
   "id": "5a0c52dd",
   "metadata": {},
   "outputs": [],
   "source": [
    "boto = boto3.session.Session(\n",
    "    aws_access_key_id=aws_access_key_id,\n",
    "    aws_secret_access_key=aws_secret_access_key,\n",
    "    region_name='us-east-1'\n",
    ")\n",
    "s3 = boto.client('s3')\n"
   ]
  },
  {
   "cell_type": "code",
   "execution_count": 45,
   "id": "7f010e4b",
   "metadata": {},
   "outputs": [],
   "source": [
    "consumer = KafkaConsumer(\n",
    "    'stocktopic',\n",
    "     bootstrap_servers=['44.202.131.32:9092']\n",
    "    ,value_deserializer=lambda x: loads(x.decode('utf-8'))\n",
    "    # ,value_deserializer=lambda x: x\n",
    "    )"
   ]
  },
  {
   "cell_type": "code",
   "execution_count": null,
   "id": "e96412b3",
   "metadata": {},
   "outputs": [
    {
     "name": "stdout",
     "output_type": "stream",
     "text": [
      "Uploaded {'Date': '2016-02-26', 'AAPL.Open': 97.199997, 'AAPL.High': 98.019997, 'AAPL.Low': 96.580002, 'AAPL.Close': 96.910004, 'AAPL.Volume': 28991100, 'AAPL.Adjusted': 94.903715, 'dn': 93.61258879, 'mavg': 95.68616642, 'up': 97.75974404, 'direction': 'Decreasing'} to S3 at 2025-06-01_14:06:30:651679\n",
      "Uploaded {'Date': '2016-11-02', 'AAPL.Open': 111.400002, 'AAPL.High': 112.349998, 'AAPL.Low': 111.230003, 'AAPL.Close': 111.589996, 'AAPL.Volume': 28331700, 'AAPL.Adjusted': 110.540737, 'dn': 111.9044585, 'mavg': 115.6923329, 'up': 119.4802074, 'direction': 'Increasing'} to S3 at 2025-06-01_14:06:32:668896\n",
      "Uploaded {'Date': '2015-12-04', 'AAPL.Open': 115.290001, 'AAPL.High': 119.25, 'AAPL.Low': 115.110001, 'AAPL.Close': 119.029999, 'AAPL.Volume': 57777000, 'AAPL.Adjusted': 115.936671, 'dn': 113.0697614, 'mavg': 117.2793332, 'up': 121.488905, 'direction': 'Increasing'} to S3 at 2025-06-01_14:06:34:648988\n",
      "Uploaded {'Date': '2015-08-24', 'AAPL.Open': 94.870003, 'AAPL.High': 108.800003, 'AAPL.Low': 92.0, 'AAPL.Close': 103.120003, 'AAPL.Volume': 162206300, 'AAPL.Adjusted': 100.012029, 'dn': 105.9911026, 'mavg': 115.9568336, 'up': 125.9225645, 'direction': 'Increasing'} to S3 at 2025-06-01_14:06:36:654997\n",
      "Uploaded {'Date': '2016-04-18', 'AAPL.Open': 108.889999, 'AAPL.High': 108.949997, 'AAPL.Low': 106.940002, 'AAPL.Close': 107.480003, 'AAPL.Volume': 60834000, 'AAPL.Adjusted': 105.254888, 'dn': 104.8293735, 'mavg': 108.7971667, 'up': 112.7649599, 'direction': 'Decreasing'} to S3 at 2025-06-01_14:06:38:648866\n",
      "Uploaded {'Date': '2016-12-20', 'AAPL.Open': 116.739998, 'AAPL.High': 117.5, 'AAPL.Low': 116.68, 'AAPL.Close': 116.949997, 'AAPL.Volume': 21425000, 'AAPL.Adjusted': 116.445139, 'dn': 107.6049562, 'mavg': 112.613, 'up': 117.6210437, 'direction': 'Increasing'} to S3 at 2025-06-01_14:06:40:673912\n",
      "Uploaded {'Date': '2016-12-06', 'AAPL.Open': 109.5, 'AAPL.High': 110.360001, 'AAPL.Low': 109.190002, 'AAPL.Close': 109.949997, 'AAPL.Volume': 26195500, 'AAPL.Adjusted': 109.475358, 'dn': 106.675792, 'mavg': 109.8375, 'up': 112.9992081, 'direction': 'Increasing'} to S3 at 2025-06-01_14:06:42:659317\n",
      "Uploaded {'Date': '2016-04-07', 'AAPL.Open': 109.949997, 'AAPL.High': 110.419998, 'AAPL.Low': 108.120003, 'AAPL.Close': 108.540001, 'AAPL.Volume': 31801900, 'AAPL.Adjusted': 106.292941, 'dn': 101.1177046, 'mavg': 106.6508331, 'up': 112.1839617, 'direction': 'Decreasing'} to S3 at 2025-06-01_14:06:44:679016\n",
      "Uploaded {'Date': '2016-10-17', 'AAPL.Open': 117.330002, 'AAPL.High': 117.839996, 'AAPL.Low': 116.779999, 'AAPL.Close': 117.550003, 'AAPL.Volume': 23624900, 'AAPL.Adjusted': 116.444703, 'dn': 110.7934513, 'mavg': 114.3990002, 'up': 118.0045491, 'direction': 'Increasing'} to S3 at 2025-06-01_14:06:46:674369\n",
      "Uploaded {'Date': '2015-05-20', 'AAPL.Open': 130.0, 'AAPL.High': 130.979996, 'AAPL.Low': 129.339996, 'AAPL.Close': 130.059998, 'AAPL.Volume': 36454900, 'AAPL.Adjusted': 125.571679, 'dn': 124.1850087, 'mavg': 128.3093337, 'up': 132.4336587, 'direction': 'Increasing'} to S3 at 2025-06-01_14:06:48:710148\n",
      "Uploaded {'Date': '2016-04-21', 'AAPL.Open': 106.93, 'AAPL.High': 106.93, 'AAPL.Low': 105.519997, 'AAPL.Close': 105.970001, 'AAPL.Volume': 31552500, 'AAPL.Adjusted': 103.776147, 'dn': 105.0275935, 'mavg': 108.8608332, 'up': 112.6940728, 'direction': 'Decreasing'} to S3 at 2025-06-01_14:06:50:687069\n",
      "Uploaded {'Date': '2016-06-23', 'AAPL.Open': 95.940002, 'AAPL.High': 96.290001, 'AAPL.Low': 95.25, 'AAPL.Close': 96.099998, 'AAPL.Volume': 32240200, 'AAPL.Adjusted': 94.683468, 'dn': 94.91593085, 'mavg': 97.92516678, 'up': 100.9344027, 'direction': 'Increasing'} to S3 at 2025-06-01_14:06:52:679030\n",
      "Uploaded {'Date': '2016-05-02', 'AAPL.Open': 93.970001, 'AAPL.High': 94.080002, 'AAPL.Low': 92.400002, 'AAPL.Close': 93.639999, 'AAPL.Volume': 48160100, 'AAPL.Adjusted': 91.701408, 'dn': 94.19229108, 'mavg': 105.7628338, 'up': 117.3333764, 'direction': 'Decreasing'} to S3 at 2025-06-01_14:06:54:711385\n",
      "Uploaded {'Date': '2015-12-02', 'AAPL.Open': 117.339996, 'AAPL.High': 118.110001, 'AAPL.Low': 116.080002, 'AAPL.Close': 116.279999, 'AAPL.Volume': 33386600, 'AAPL.Adjusted': 113.258137, 'dn': 112.863291, 'mavg': 117.8064999, 'up': 122.7497088, 'direction': 'Decreasing'} to S3 at 2025-06-01_14:06:56:692018\n",
      "Uploaded {'Date': '2015-11-18', 'AAPL.Open': 115.760002, 'AAPL.High': 117.489998, 'AAPL.Low': 115.5, 'AAPL.Close': 117.290001, 'AAPL.Volume': 46674700, 'AAPL.Adjusted': 114.241891, 'dn': 112.0084461, 'mavg': 117.8878331, 'up': 123.7672201, 'direction': 'Increasing'} to S3 at 2025-06-01_14:06:58:694631\n",
      "Uploaded {'Date': '2015-10-05', 'AAPL.Open': 109.879997, 'AAPL.High': 111.370003, 'AAPL.Low': 109.07, 'AAPL.Close': 110.779999, 'AAPL.Volume': 52064700, 'AAPL.Adjusted': 107.441158, 'dn': 108.5314398, 'mavg': 112.8930004, 'up': 117.2545609, 'direction': 'Increasing'} to S3 at 2025-06-01_14:07:00:691989\n",
      "Uploaded {'Date': '2015-05-19', 'AAPL.Open': 130.690002, 'AAPL.High': 130.880005, 'AAPL.Low': 129.639999, 'AAPL.Close': 130.070007, 'AAPL.Volume': 44633200, 'AAPL.Adjusted': 125.581344, 'dn': 124.1588765, 'mavg': 128.1998337, 'up': 132.2407909, 'direction': 'Decreasing'} to S3 at 2025-06-01_14:07:02:709874\n",
      "Uploaded {'Date': '2016-11-22', 'AAPL.Open': 111.949997, 'AAPL.High': 112.419998, 'AAPL.Low': 111.400002, 'AAPL.Close': 111.800003, 'AAPL.Volume': 25965500, 'AAPL.Adjusted': 111.317377, 'dn': 105.7677941, 'mavg': 110.6195, 'up': 115.4712059, 'direction': 'Decreasing'} to S3 at 2025-06-01_14:07:04:714433\n",
      "Uploaded {'Date': '2016-08-11', 'AAPL.Open': 108.519997, 'AAPL.High': 108.93, 'AAPL.Low': 107.849998, 'AAPL.Close': 107.93, 'AAPL.Volume': 27484500, 'AAPL.Adjusted': 106.915155, 'dn': 95.58278728, 'mavg': 103.2275, 'up': 110.8722127, 'direction': 'Decreasing'} to S3 at 2025-06-01_14:07:06:733289\n",
      "Uploaded {'Date': '2015-07-01', 'AAPL.Open': 126.900002, 'AAPL.High': 126.940002, 'AAPL.Low': 125.989998, 'AAPL.Close': 126.599998, 'AAPL.Volume': 30238800, 'AAPL.Adjusted': 122.231083, 'dn': 125.319636, 'mavg': 127.5075, 'up': 129.6953639, 'direction': 'Decreasing'} to S3 at 2025-06-01_14:07:08:708734\n",
      "Uploaded {'Date': '2016-03-09', 'AAPL.Open': 101.309998, 'AAPL.High': 101.580002, 'AAPL.Low': 100.269997, 'AAPL.Close': 101.120003, 'AAPL.Volume': 27201700, 'AAPL.Adjusted': 99.026556, 'dn': 92.29184706, 'mavg': 97.73916675, 'up': 103.1864864, 'direction': 'Decreasing'} to S3 at 2025-06-01_14:07:10:721335\n",
      "Uploaded {'Date': '2015-05-06', 'AAPL.Open': 126.559998, 'AAPL.High': 126.75, 'AAPL.Low': 123.360001, 'AAPL.Close': 125.010002, 'AAPL.Volume': 72141000, 'AAPL.Adjusted': 120.193897, 'dn': 123.8088193, 'mavg': 127.7326664, 'up': 131.6565135, 'direction': 'Decreasing'} to S3 at 2025-06-01_14:07:12:720400\n",
      "Uploaded {'Date': '2016-10-04', 'AAPL.Open': 113.059998, 'AAPL.High': 114.309998, 'AAPL.Low': 112.629997, 'AAPL.Close': 113.0, 'AAPL.Volume': 29736800, 'AAPL.Adjusted': 111.937482, 'dn': 104.8287959, 'mavg': 111.5531666, 'up': 118.2775372, 'direction': 'Decreasing'} to S3 at 2025-06-01_14:07:14:720684\n",
      "Uploaded {'Date': '2016-10-14', 'AAPL.Open': 117.879997, 'AAPL.High': 118.169998, 'AAPL.Low': 117.129997, 'AAPL.Close': 117.629997, 'AAPL.Volume': 35652200, 'AAPL.Adjusted': 116.523945, 'dn': 110.9119196, 'mavg': 114.2463336, 'up': 117.5807476, 'direction': 'Decreasing'} to S3 at 2025-06-01_14:07:16:719453\n",
      "Uploaded {'Date': '2015-05-07', 'AAPL.Open': 124.769997, 'AAPL.High': 126.080002, 'AAPL.Low': 124.019997, 'AAPL.Close': 125.260002, 'AAPL.Volume': 43940900, 'AAPL.Adjusted': 120.93733, 'dn': 123.6785663, 'mavg': 127.6919997, 'up': 131.705433, 'direction': 'Increasing'} to S3 at 2025-06-01_14:07:18:728797\n",
      "Uploaded {'Date': '2016-11-14', 'AAPL.Open': 107.709999, 'AAPL.High': 107.809998, 'AAPL.Low': 104.080002, 'AAPL.Close': 105.709999, 'AAPL.Volume': 51175500, 'AAPL.Adjusted': 105.253663, 'dn': 105.6163877, 'mavg': 112.8223332, 'up': 120.0282786, 'direction': 'Decreasing'} to S3 at 2025-06-01_14:07:20:763599\n",
      "Uploaded {'Date': '2015-09-25', 'AAPL.Open': 116.440002, 'AAPL.High': 116.690002, 'AAPL.Low': 114.019997, 'AAPL.Close': 114.709999, 'AAPL.Volume': 56151900, 'AAPL.Adjusted': 111.25271, 'dn': 109.1116704, 'mavg': 113.1013332, 'up': 117.090996, 'direction': 'Decreasing'} to S3 at 2025-06-01_14:07:22:750858\n",
      "Uploaded {'Date': '2015-03-11', 'AAPL.Open': 124.75, 'AAPL.High': 124.769997, 'AAPL.Low': 122.110001, 'AAPL.Close': 122.239998, 'AAPL.Volume': 68939000, 'AAPL.Adjusted': 117.530609, 'dn': 123.592756, 'mavg': 128.0033337, 'up': 132.4139113, 'direction': 'Decreasing'} to S3 at 2025-06-01_14:07:24:750459\n",
      "Uploaded {'Date': '2016-08-16', 'AAPL.Open': 109.629997, 'AAPL.High': 110.230003, 'AAPL.Low': 109.209999, 'AAPL.Close': 109.379997, 'AAPL.Volume': 33794400, 'AAPL.Adjusted': 108.351518, 'dn': 96.85507774, 'mavg': 104.6603335, 'up': 112.4655892, 'direction': 'Decreasing'} to S3 at 2025-06-01_14:07:26:750192\n",
      "Uploaded {'Date': '2016-08-03', 'AAPL.Open': 104.809998, 'AAPL.High': 105.839996, 'AAPL.Low': 104.769997, 'AAPL.Close': 105.790001, 'AAPL.Volume': 30202600, 'AAPL.Adjusted': 104.230638, 'dn': 93.76562625, 'mavg': 100.0653331, 'up': 106.36504, 'direction': 'Increasing'} to S3 at 2025-06-01_14:07:28:770932\n",
      "Uploaded {'Date': '2016-06-06', 'AAPL.Open': 97.989998, 'AAPL.High': 101.889999, 'AAPL.Low': 97.550003, 'AAPL.Close': 98.629997, 'AAPL.Volume': 23292500, 'AAPL.Adjusted': 97.176174, 'dn': 89.83474445, 'mavg': 95.87799935, 'up': 101.9212542, 'direction': 'Increasing'} to S3 at 2025-06-01_14:07:30:771113\n",
      "Uploaded {'Date': '2015-12-29', 'AAPL.Open': 106.959999, 'AAPL.High': 109.43, 'AAPL.Low': 106.860001, 'AAPL.Close': 108.739998, 'AAPL.Volume': 30931200, 'AAPL.Adjusted': 105.914084, 'dn': 103.8135822, 'mavg': 112.3411667, 'up': 120.8687512, 'direction': 'Increasing'} to S3 at 2025-06-01_14:07:32:770496\n",
      "Uploaded {'Date': '2015-12-07', 'AAPL.Open': 118.980003, 'AAPL.High': 119.860001, 'AAPL.Low': 117.809998, 'AAPL.Close': 118.279999, 'AAPL.Volume': 32084200, 'AAPL.Adjusted': 115.206161, 'dn': 113.2786207, 'mavg': 117.1536665, 'up': 121.0287123, 'direction': 'Decreasing'} to S3 at 2025-06-01_14:07:34:770758\n",
      "Uploaded {'Date': '2015-04-09', 'AAPL.Open': 125.849998, 'AAPL.High': 126.580002, 'AAPL.Low': 124.660004, 'AAPL.Close': 126.559998, 'AAPL.Volume': 32484000, 'AAPL.Adjusted': 121.684177, 'dn': 122.7775359, 'mavg': 125.5938332, 'up': 128.4101305, 'direction': 'Increasing'} to S3 at 2025-06-01_14:07:36:772283\n",
      "Uploaded {'Date': '2016-02-09', 'AAPL.Open': 94.290001, 'AAPL.High': 95.940002, 'AAPL.Low': 93.93, 'AAPL.Close': 94.989998, 'AAPL.Volume': 44331200, 'AAPL.Adjusted': 93.023458, 'dn': 92.75384092, 'mavg': 96.77333287, 'up': 100.7928248, 'direction': 'Increasing'} to S3 at 2025-06-01_14:07:38:781205\n",
      "Uploaded {'Date': '2015-06-23', 'AAPL.Open': 127.480003, 'AAPL.High': 127.610001, 'AAPL.Low': 126.879997, 'AAPL.Close': 127.029999, 'AAPL.Volume': 30268900, 'AAPL.Adjusted': 122.646244, 'dn': 125.5733485, 'mavg': 128.7039996, 'up': 131.8346507, 'direction': 'Decreasing'} to S3 at 2025-06-01_14:07:40:780139\n",
      "Uploaded {'Date': '2016-11-01', 'AAPL.Open': 113.459999, 'AAPL.High': 113.769997, 'AAPL.Low': 110.529999, 'AAPL.Close': 111.489998, 'AAPL.Volume': 43825800, 'AAPL.Adjusted': 110.441678, 'dn': 112.2291083, 'mavg': 115.7628331, 'up': 119.296558, 'direction': 'Decreasing'} to S3 at 2025-06-01_14:07:42:780462\n",
      "Uploaded {'Date': '2016-05-25', 'AAPL.Open': 98.669998, 'AAPL.High': 99.739998, 'AAPL.Low': 98.110001, 'AAPL.Close': 99.620003, 'AAPL.Volume': 38168800, 'AAPL.Adjusted': 98.151587, 'dn': 90.19869119, 'mavg': 94.13483275, 'up': 98.07097431, 'direction': 'Increasing'} to S3 at 2025-06-01_14:07:44:791487\n",
      "Uploaded {'Date': '2016-01-12', 'AAPL.Open': 100.550003, 'AAPL.High': 100.690002, 'AAPL.Low': 98.839996, 'AAPL.Close': 99.959999, 'AAPL.Volume': 49154200, 'AAPL.Adjusted': 97.362258, 'dn': 96.79499958, 'mavg': 105.6086665, 'up': 114.4223334, 'direction': 'Decreasing'} to S3 at 2025-06-01_14:07:46:802158\n",
      "Uploaded {'Date': '2016-02-11', 'AAPL.Open': 93.790001, 'AAPL.High': 94.720001, 'AAPL.Low': 92.589996, 'AAPL.Close': 93.699997, 'AAPL.Volume': 50074700, 'AAPL.Adjusted': 91.760163, 'dn': 92.37451682, 'mavg': 96.27933263, 'up': 100.1841484, 'direction': 'Decreasing'} to S3 at 2025-06-01_14:07:48:799759\n",
      "Uploaded {'Date': '2015-10-02', 'AAPL.Open': 108.010002, 'AAPL.High': 111.010002, 'AAPL.Low': 107.550003, 'AAPL.Close': 110.379997, 'AAPL.Volume': 58019800, 'AAPL.Adjusted': 107.053212, 'dn': 108.3483737, 'mavg': 112.843167, 'up': 117.3379602, 'direction': 'Increasing'} to S3 at 2025-06-01_14:07:50:798293\n",
      "Uploaded {'Date': '2016-09-02', 'AAPL.Open': 107.699997, 'AAPL.High': 108.0, 'AAPL.Low': 106.82, 'AAPL.Close': 107.730003, 'AAPL.Volume': 26802500, 'AAPL.Adjusted': 106.717038, 'dn': 105.9016386, 'mavg': 107.9983337, 'up': 110.0950288, 'direction': 'Increasing'} to S3 at 2025-06-01_14:07:52:811971\n",
      "Uploaded {'Date': '2016-03-10', 'AAPL.Open': 101.410004, 'AAPL.High': 102.239998, 'AAPL.Low': 100.150002, 'AAPL.Close': 101.169998, 'AAPL.Volume': 33513600, 'AAPL.Adjusted': 99.075516, 'dn': 92.57125624, 'mavg': 98.05316683, 'up': 103.5350774, 'direction': 'Decreasing'} to S3 at 2025-06-01_14:07:54:808581\n",
      "Uploaded {'Date': '2016-03-18', 'AAPL.Open': 106.339996, 'AAPL.High': 106.5, 'AAPL.Low': 105.190002, 'AAPL.Close': 105.919998, 'AAPL.Volume': 44205200, 'AAPL.Adjusted': 103.727179, 'dn': 93.95272123, 'mavg': 100.6471668, 'up': 107.3416124, 'direction': 'Decreasing'} to S3 at 2025-06-01_14:07:56:811204\n",
      "Uploaded {'Date': '2015-07-06', 'AAPL.Open': 124.940002, 'AAPL.High': 126.230003, 'AAPL.Low': 124.849998, 'AAPL.Close': 126.0, 'AAPL.Volume': 28060400, 'AAPL.Adjusted': 121.65179, 'dn': 125.172968, 'mavg': 127.1813333, 'up': 129.1896986, 'direction': 'Increasing'} to S3 at 2025-06-01_14:07:58:821996\n",
      "Uploaded {'Date': '2016-01-11', 'AAPL.Open': 98.970001, 'AAPL.High': 99.059998, 'AAPL.Low': 97.339996, 'AAPL.Close': 98.529999, 'AAPL.Volume': 49739400, 'AAPL.Adjusted': 95.96942, 'dn': 97.22509425, 'mavg': 106.3074998, 'up': 115.3899053, 'direction': 'Decreasing'} to S3 at 2025-06-01_14:08:00:810128\n",
      "Uploaded {'Date': '2015-04-07', 'AAPL.Open': 127.639999, 'AAPL.High': 128.119995, 'AAPL.Low': 125.980003, 'AAPL.Close': 126.010002, 'AAPL.Volume': 35012300, 'AAPL.Adjusted': 121.155371, 'dn': 122.4030622, 'mavg': 125.4251665, 'up': 128.4472708, 'direction': 'Decreasing'} to S3 at 2025-06-01_14:08:02:821961\n",
      "Uploaded {'Date': '2016-02-10', 'AAPL.Open': 95.919998, 'AAPL.High': 96.349998, 'AAPL.Low': 94.099998, 'AAPL.Close': 94.269997, 'AAPL.Volume': 42343600, 'AAPL.Adjusted': 92.318363, 'dn': 92.68761252, 'mavg': 96.52716613, 'up': 100.3667197, 'direction': 'Decreasing'} to S3 at 2025-06-01_14:08:04:820075\n",
      "Uploaded {'Date': '2015-04-09', 'AAPL.Open': 125.849998, 'AAPL.High': 126.580002, 'AAPL.Low': 124.660004, 'AAPL.Close': 126.559998, 'AAPL.Volume': 32484000, 'AAPL.Adjusted': 121.684177, 'dn': 122.7775359, 'mavg': 125.5938332, 'up': 128.4101305, 'direction': 'Increasing'} to S3 at 2025-06-01_14:08:06:832880\n",
      "Uploaded {'Date': '2015-08-13', 'AAPL.Open': 116.040001, 'AAPL.High': 116.400002, 'AAPL.Low': 114.540001, 'AAPL.Close': 115.150002, 'AAPL.Volume': 48535800, 'AAPL.Adjusted': 111.679451, 'dn': 110.0107495, 'mavg': 121.1456666, 'up': 132.2805836, 'direction': 'Decreasing'} to S3 at 2025-06-01_14:08:08:832809\n",
      "Uploaded {'Date': '2015-11-02', 'AAPL.Open': 120.800003, 'AAPL.High': 121.360001, 'AAPL.Low': 119.610001, 'AAPL.Close': 121.18, 'AAPL.Volume': 32203300, 'AAPL.Adjusted': 117.527709, 'dn': 106.9021448, 'mavg': 114.0261663, 'up': 121.1501879, 'direction': 'Increasing'} to S3 at 2025-06-01_14:08:10:827148\n",
      "Uploaded {'Date': '2016-09-02', 'AAPL.Open': 107.699997, 'AAPL.High': 108.0, 'AAPL.Low': 106.82, 'AAPL.Close': 107.730003, 'AAPL.Volume': 26802500, 'AAPL.Adjusted': 106.717038, 'dn': 105.9016386, 'mavg': 107.9983337, 'up': 110.0950288, 'direction': 'Increasing'} to S3 at 2025-06-01_14:08:12:831220\n",
      "Uploaded {'Date': '2015-08-14', 'AAPL.Open': 114.32, 'AAPL.High': 116.309998, 'AAPL.Low': 114.010002, 'AAPL.Close': 115.959999, 'AAPL.Volume': 42929500, 'AAPL.Adjusted': 112.465036, 'dn': 109.7007656, 'mavg': 120.4578334, 'up': 131.2149012, 'direction': 'Increasing'} to S3 at 2025-06-01_14:08:14:837606\n",
      "Uploaded {'Date': '2016-08-08', 'AAPL.Open': 107.519997, 'AAPL.High': 108.370003, 'AAPL.Low': 107.160004, 'AAPL.Close': 108.370003, 'AAPL.Volume': 28037200, 'AAPL.Adjusted': 107.35102, 'dn': 94.45847658, 'mavg': 101.6206665, 'up': 108.7828564, 'direction': 'Increasing'} to S3 at 2025-06-01_14:08:16:838283\n",
      "Uploaded {'Date': '2015-06-30', 'AAPL.Open': 125.57, 'AAPL.High': 126.120003, 'AAPL.Low': 124.860001, 'AAPL.Close': 125.43, 'AAPL.Volume': 44370700, 'AAPL.Adjusted': 121.101461, 'dn': 125.2434909, 'mavg': 127.6979999, 'up': 130.1525088, 'direction': 'Decreasing'} to S3 at 2025-06-01_14:08:18:867468\n",
      "Uploaded {'Date': '2016-05-10', 'AAPL.Open': 93.330002, 'AAPL.High': 93.57, 'AAPL.Low': 92.110001, 'AAPL.Close': 93.419998, 'AAPL.Volume': 33686800, 'AAPL.Adjusted': 92.042972, 'dn': 86.74692592, 'mavg': 100.9616668, 'up': 115.1764077, 'direction': 'Increasing'} to S3 at 2025-06-01_14:08:20:850009\n",
      "Uploaded {'Date': '2015-04-29', 'AAPL.Open': 130.160004, 'AAPL.High': 131.589996, 'AAPL.Low': 128.300003, 'AAPL.Close': 128.639999, 'AAPL.Volume': 63386100, 'AAPL.Adjusted': 123.684046, 'dn': 123.165847, 'mavg': 127.372333, 'up': 131.578819, 'direction': 'Decreasing'} to S3 at 2025-06-01_14:08:22:847917\n",
      "Uploaded {'Date': '2016-12-08', 'AAPL.Open': 110.860001, 'AAPL.High': 112.43, 'AAPL.Low': 110.599998, 'AAPL.Close': 112.120003, 'AAPL.Volume': 27068300, 'AAPL.Adjusted': 111.635996, 'dn': 106.6517826, 'mavg': 109.9008335, 'up': 113.1498845, 'direction': 'Increasing'} to S3 at 2025-06-01_14:08:24:868219\n",
      "Uploaded {'Date': '2016-12-14', 'AAPL.Open': 115.040001, 'AAPL.High': 116.199997, 'AAPL.Low': 114.980003, 'AAPL.Close': 115.190002, 'AAPL.Volume': 34031800, 'AAPL.Adjusted': 114.692743, 'dn': 107.7378136, 'mavg': 111.332, 'up': 114.9261863, 'direction': 'Increasing'} to S3 at 2025-06-01_14:08:26:908338\n",
      "Uploaded {'Date': '2015-09-22', 'AAPL.Open': 113.379997, 'AAPL.High': 114.18, 'AAPL.Low': 112.519997, 'AAPL.Close': 113.400002, 'AAPL.Volume': 50346200, 'AAPL.Adjusted': 109.982195, 'dn': 107.1040188, 'mavg': 112.2434997, 'up': 117.3829807, 'direction': 'Increasing'} to S3 at 2025-06-01_14:08:28:870146\n",
      "Uploaded {'Date': '2015-05-05', 'AAPL.Open': 128.149994, 'AAPL.High': 128.449997, 'AAPL.Low': 125.779999, 'AAPL.Close': 125.800003, 'AAPL.Volume': 49271400, 'AAPL.Adjusted': 120.953462, 'dn': 123.91582, 'mavg': 127.7634997, 'up': 131.6111794, 'direction': 'Decreasing'} to S3 at 2025-06-01_14:08:30:882775\n",
      "Uploaded {'Date': '2015-06-04', 'AAPL.Open': 129.580002, 'AAPL.High': 130.580002, 'AAPL.Low': 128.910004, 'AAPL.Close': 129.360001, 'AAPL.Volume': 38450100, 'AAPL.Adjusted': 124.895839, 'dn': 125.2683798, 'mavg': 129.3096669, 'up': 133.3509539, 'direction': 'Decreasing'} to S3 at 2025-06-01_14:08:32:906145\n",
      "Uploaded {'Date': '2017-01-13', 'AAPL.Open': 119.110001, 'AAPL.High': 119.620003, 'AAPL.Low': 118.809998, 'AAPL.Close': 119.040001, 'AAPL.Volume': 26111900, 'AAPL.Adjusted': 118.526121, 'dn': 114.7862159, 'mavg': 117.1555002, 'up': 119.5247845, 'direction': 'Decreasing'} to S3 at 2025-06-01_14:08:34:879930\n",
      "Uploaded {'Date': '2017-01-10', 'AAPL.Open': 118.769997, 'AAPL.High': 119.379997, 'AAPL.Low': 118.300003, 'AAPL.Close': 119.110001, 'AAPL.Volume': 24462100, 'AAPL.Adjusted': 118.595819, 'dn': 114.1532615, 'mavg': 116.4806669, 'up': 118.8080723, 'direction': 'Increasing'} to S3 at 2025-06-01_14:08:36:877817\n",
      "Uploaded {'Date': '2017-01-03', 'AAPL.Open': 115.800003, 'AAPL.High': 116.330002, 'AAPL.Low': 114.760002, 'AAPL.Close': 116.150002, 'AAPL.Volume': 28781900, 'AAPL.Adjusted': 115.648597, 'dn': 109.824879, 'mavg': 114.8328334, 'up': 119.8407878, 'direction': 'Increasing'} to S3 at 2025-06-01_14:08:38:893506\n",
      "Uploaded {'Date': '2017-01-30', 'AAPL.Open': 120.93, 'AAPL.High': 121.629997, 'AAPL.Low': 120.660004, 'AAPL.Close': 121.629997, 'AAPL.Volume': 30377500, 'AAPL.Adjusted': 121.104937, 'dn': 115.42384, 'mavg': 119.1636665, 'up': 122.903493, 'direction': 'Increasing'} to S3 at 2025-06-01_14:08:40:880928\n",
      "Uploaded {'Date': '2016-10-27', 'AAPL.Open': 115.389999, 'AAPL.High': 115.860001, 'AAPL.Low': 114.099998, 'AAPL.Close': 114.480003, 'AAPL.Volume': 34562000, 'AAPL.Adjusted': 113.403569, 'dn': 112.0881275, 'mavg': 115.7106666, 'up': 119.3332058, 'direction': 'Decreasing'} to S3 at 2025-06-01_14:08:42:891548\n",
      "Uploaded {'Date': '2015-12-07', 'AAPL.Open': 118.980003, 'AAPL.High': 119.860001, 'AAPL.Low': 117.809998, 'AAPL.Close': 118.279999, 'AAPL.Volume': 32084200, 'AAPL.Adjusted': 115.206161, 'dn': 113.2786207, 'mavg': 117.1536665, 'up': 121.0287123, 'direction': 'Decreasing'} to S3 at 2025-06-01_14:08:44:891668\n",
      "Uploaded {'Date': '2016-06-02', 'AAPL.Open': 97.599998, 'AAPL.High': 97.839996, 'AAPL.Low': 96.629997, 'AAPL.Close': 97.720001, 'AAPL.Volume': 40191600, 'AAPL.Adjusted': 96.279592, 'dn': 89.36741119, 'mavg': 95.31633273, 'up': 101.2652543, 'direction': 'Increasing'} to S3 at 2025-06-01_14:08:46:908123\n",
      "Uploaded {'Date': '2015-09-21', 'AAPL.Open': 113.669998, 'AAPL.High': 115.370003, 'AAPL.Low': 113.660004, 'AAPL.Close': 115.209999, 'AAPL.Volume': 50222000, 'AAPL.Adjusted': 111.73764, 'dn': 104.666951, 'mavg': 111.6404998, 'up': 118.6140487, 'direction': 'Increasing'} to S3 at 2025-06-01_14:08:48:907464\n",
      "Uploaded {'Date': '2015-06-26', 'AAPL.Open': 127.669998, 'AAPL.High': 127.989998, 'AAPL.Low': 126.510002, 'AAPL.Close': 126.75, 'AAPL.Volume': 44066800, 'AAPL.Adjusted': 122.375908, 'dn': 125.8452624, 'mavg': 128.1985, 'up': 130.5517375, 'direction': 'Decreasing'} to S3 at 2025-06-01_14:08:50:911193\n",
      "Uploaded {'Date': '2015-02-19', 'AAPL.Open': 128.479996, 'AAPL.High': 129.029999, 'AAPL.Low': 128.330002, 'AAPL.Close': 128.449997, 'AAPL.Volume': 37362400, 'AAPL.Adjusted': 123.501363, 'dn': 108.8942449, 'mavg': 119.8891668, 'up': 130.8840887, 'direction': 'Decreasing'} to S3 at 2025-06-01_14:08:52:921506\n",
      "Uploaded {'Date': '2015-12-16', 'AAPL.Open': 111.07, 'AAPL.High': 111.989998, 'AAPL.Low': 108.800003, 'AAPL.Close': 111.339996, 'AAPL.Volume': 56238500, 'AAPL.Adjusted': 108.446514, 'dn': 111.3660237, 'mavg': 116.5023334, 'up': 121.6386431, 'direction': 'Increasing'} to S3 at 2025-06-01_14:08:54:916667\n",
      "Uploaded {'Date': '2016-07-14', 'AAPL.Open': 97.389999, 'AAPL.High': 98.989998, 'AAPL.Low': 97.32, 'AAPL.Close': 98.790001, 'AAPL.Volume': 38919000, 'AAPL.Adjusted': 97.33382, 'dn': 92.68390678, 'mavg': 95.64200058, 'up': 98.60009438, 'direction': 'Increasing'} to S3 at 2025-06-01_14:08:56:918114\n",
      "Uploaded {'Date': '2017-02-01', 'AAPL.Open': 127.029999, 'AAPL.High': 130.490005, 'AAPL.Low': 127.010002, 'AAPL.Close': 128.75, 'AAPL.Volume': 111985000, 'AAPL.Adjusted': 128.194203, 'dn': 114.9879568, 'mavg': 120.0623333, 'up': 125.1367097, 'direction': 'Increasing'} to S3 at 2025-06-01_14:08:58:923645\n",
      "Uploaded {'Date': '2016-06-03', 'AAPL.Open': 97.790001, 'AAPL.High': 98.269997, 'AAPL.Low': 97.449997, 'AAPL.Close': 97.919998, 'AAPL.Volume': 28062900, 'AAPL.Adjusted': 96.476641, 'dn': 89.56821435, 'mavg': 95.54383263, 'up': 101.5194509, 'direction': 'Increasing'} to S3 at 2025-06-01_14:09:00:922702\n",
      "Uploaded {'Date': '2016-08-18', 'AAPL.Open': 109.230003, 'AAPL.High': 109.599998, 'AAPL.Low': 109.019997, 'AAPL.Close': 109.080002, 'AAPL.Volume': 21984700, 'AAPL.Adjusted': 108.054343, 'dn': 98.05126189, 'mavg': 105.5755002, 'up': 113.0997385, 'direction': 'Decreasing'} to S3 at 2025-06-01_14:09:02:934270\n",
      "Uploaded {'Date': '2016-12-14', 'AAPL.Open': 115.040001, 'AAPL.High': 116.199997, 'AAPL.Low': 114.980003, 'AAPL.Close': 115.190002, 'AAPL.Volume': 34031800, 'AAPL.Adjusted': 114.692743, 'dn': 107.7378136, 'mavg': 111.332, 'up': 114.9261863, 'direction': 'Increasing'} to S3 at 2025-06-01_14:09:04:934772\n",
      "Uploaded {'Date': '2016-06-06', 'AAPL.Open': 97.989998, 'AAPL.High': 101.889999, 'AAPL.Low': 97.550003, 'AAPL.Close': 98.629997, 'AAPL.Volume': 23292500, 'AAPL.Adjusted': 97.176174, 'dn': 89.83474445, 'mavg': 95.87799935, 'up': 101.9212542, 'direction': 'Increasing'} to S3 at 2025-06-01_14:09:06:936635\n",
      "Uploaded {'Date': '2016-01-26', 'AAPL.Open': 99.93, 'AAPL.High': 100.879997, 'AAPL.Low': 98.07, 'AAPL.Close': 99.989998, 'AAPL.Volume': 75077000, 'AAPL.Adjusted': 97.391477, 'dn': 93.0074875, 'mavg': 100.7239999, 'up': 108.4405123, 'direction': 'Increasing'} to S3 at 2025-06-01_14:09:08:943736\n",
      "Uploaded {'Date': '2016-05-17', 'AAPL.Open': 94.550003, 'AAPL.High': 94.699997, 'AAPL.Low': 93.010002, 'AAPL.Close': 93.489998, 'AAPL.Volume': 46916900, 'AAPL.Adjusted': 92.111939, 'dn': 85.66076061, 'mavg': 96.5791664, 'up': 107.4975722, 'direction': 'Decreasing'} to S3 at 2025-06-01_14:09:10:954908\n",
      "Uploaded {'Date': '2015-07-24', 'AAPL.Open': 125.32, 'AAPL.High': 125.739998, 'AAPL.Low': 123.900002, 'AAPL.Close': 124.5, 'AAPL.Volume': 42162300, 'AAPL.Adjusted': 120.203555, 'dn': 120.989315, 'mavg': 126.0646669, 'up': 131.1400187, 'direction': 'Decreasing'} to S3 at 2025-06-01_14:09:12:954231\n",
      "Uploaded {'Date': '2016-12-15', 'AAPL.Open': 115.379997, 'AAPL.High': 116.730003, 'AAPL.Low': 115.230003, 'AAPL.Close': 115.82, 'AAPL.Volume': 46524500, 'AAPL.Adjusted': 115.32002, 'dn': 107.7433259, 'mavg': 111.6813334, 'up': 115.6193409, 'direction': 'Increasing'} to S3 at 2025-06-01_14:09:14:953079\n",
      "Uploaded {'Date': '2016-04-26', 'AAPL.Open': 103.910004, 'AAPL.High': 105.300003, 'AAPL.Low': 103.910004, 'AAPL.Close': 104.349998, 'AAPL.Volume': 56016200, 'AAPL.Adjusted': 102.189682, 'dn': 104.4711595, 'mavg': 108.7271669, 'up': 112.9831742, 'direction': 'Increasing'} to S3 at 2025-06-01_14:09:16:963610\n",
      "Uploaded {'Date': '2015-12-21', 'AAPL.Open': 107.279999, 'AAPL.High': 107.370003, 'AAPL.Low': 105.57, 'AAPL.Close': 107.330002, 'AAPL.Volume': 47590600, 'AAPL.Adjusted': 104.540731, 'dn': 107.258165, 'mavg': 114.9723335, 'up': 122.686502, 'direction': 'Increasing'} to S3 at 2025-06-01_14:09:18:951348\n",
      "Uploaded {'Date': '2016-04-06', 'AAPL.Open': 110.230003, 'AAPL.High': 110.980003, 'AAPL.Low': 109.199997, 'AAPL.Close': 110.959999, 'AAPL.Volume': 26404100, 'AAPL.Adjusted': 108.662839, 'dn': 100.3118524, 'mavg': 106.2489998, 'up': 112.1861471, 'direction': 'Increasing'} to S3 at 2025-06-01_14:09:20:963606\n",
      "Uploaded {'Date': '2015-11-06', 'AAPL.Open': 121.110001, 'AAPL.High': 121.809998, 'AAPL.Low': 120.620003, 'AAPL.Close': 121.059998, 'AAPL.Volume': 33042300, 'AAPL.Adjusted': 117.913914, 'dn': 107.9749626, 'mavg': 116.2746664, 'up': 124.5743702, 'direction': 'Decreasing'} to S3 at 2025-06-01_14:09:22:963368\n",
      "Uploaded {'Date': '2015-09-11', 'AAPL.Open': 111.790001, 'AAPL.High': 114.209999, 'AAPL.Low': 111.760002, 'AAPL.Close': 114.209999, 'AAPL.Volume': 49915500, 'AAPL.Adjusted': 110.76778, 'dn': 104.1180015, 'mavg': 111.3741666, 'up': 118.6303316, 'direction': 'Increasing'} to S3 at 2025-06-01_14:09:24:982644\n",
      "Uploaded {'Date': '2015-12-18', 'AAPL.Open': 108.910004, 'AAPL.High': 109.519997, 'AAPL.Low': 105.809998, 'AAPL.Close': 106.029999, 'AAPL.Volume': 96453300, 'AAPL.Adjusted': 103.274512, 'dn': 108.6549713, 'mavg': 115.6023334, 'up': 122.5496955, 'direction': 'Decreasing'} to S3 at 2025-06-01_14:09:26:992458\n",
      "Uploaded {'Date': '2016-02-02', 'AAPL.Open': 95.419998, 'AAPL.High': 96.040001, 'AAPL.Low': 94.279999, 'AAPL.Close': 94.480003, 'AAPL.Volume': 37357200, 'AAPL.Adjusted': 92.024676, 'dn': 93.09692217, 'mavg': 97.8574995, 'up': 102.6180768, 'direction': 'Decreasing'} to S3 at 2025-06-01_14:09:28:981230\n",
      "Uploaded {'Date': '2015-06-19', 'AAPL.Open': 127.709999, 'AAPL.High': 127.82, 'AAPL.Low': 126.400002, 'AAPL.Close': 126.599998, 'AAPL.Volume': 54716900, 'AAPL.Adjusted': 122.231083, 'dn': 125.6885656, 'mavg': 129.1088327, 'up': 132.5290998, 'direction': 'Decreasing'} to S3 at 2025-06-01_14:09:30:982981\n",
      "Uploaded {'Date': '2015-10-20', 'AAPL.Open': 111.339996, 'AAPL.High': 114.169998, 'AAPL.Low': 110.82, 'AAPL.Close': 113.769997, 'AAPL.Volume': 48778800, 'AAPL.Adjusted': 110.341039, 'dn': 108.1200469, 'mavg': 111.4448334, 'up': 114.76962, 'direction': 'Increasing'} to S3 at 2025-06-01_14:09:32:996016\n",
      "Uploaded {'Date': '2015-07-29', 'AAPL.Open': 123.150002, 'AAPL.High': 123.5, 'AAPL.Low': 122.269997, 'AAPL.Close': 122.989998, 'AAPL.Volume': 37011700, 'AAPL.Adjusted': 118.745662, 'dn': 120.1369622, 'mavg': 125.6306668, 'up': 131.1243713, 'direction': 'Decreasing'} to S3 at 2025-06-01_14:09:35:000849\n",
      "Uploaded {'Date': '2015-07-01', 'AAPL.Open': 126.900002, 'AAPL.High': 126.940002, 'AAPL.Low': 125.989998, 'AAPL.Close': 126.599998, 'AAPL.Volume': 30238800, 'AAPL.Adjusted': 122.231083, 'dn': 125.319636, 'mavg': 127.5075, 'up': 129.6953639, 'direction': 'Decreasing'} to S3 at 2025-06-01_14:09:37:119391\n"
     ]
    }
   ],
   "source": [
    "for c in consumer:\n",
    "    curr_time =datetime.datetime.now().strftime(\"%Y-%m-%d_%H:%M:%S:%f\")\n",
    "    s3.put_object(\n",
    "    Bucket='real-time-data-push-buk-an',\n",
    "    Key=f'finance-charts-apple_{curr_time}.json',\n",
    "    Body=dumps(c.value, indent=4, sort_keys=True).encode('utf-8')\n",
    "    )\n",
    "    print(f\"Uploaded {c.value} to S3 at {curr_time}\")"
   ]
  },
  {
   "cell_type": "code",
   "execution_count": 4,
   "id": "58ad26ae",
   "metadata": {},
   "outputs": [
    {
     "name": "stdout",
     "output_type": "stream",
     "text": [
      "Consumer is running...\n"
     ]
    }
   ],
   "source": [
    "print(\"Consumer is running...\")"
   ]
  },
  {
   "cell_type": "code",
   "execution_count": null,
   "id": "950088f3",
   "metadata": {},
   "outputs": [
    {
     "data": {
      "text/plain": [
       "'2025-06-01_12:48:59:213358'"
      ]
     },
     "execution_count": 42,
     "metadata": {},
     "output_type": "execute_result"
    }
   ],
   "source": []
  },
  {
   "cell_type": "code",
   "execution_count": null,
   "id": "d6b6afbf",
   "metadata": {},
   "outputs": [],
   "source": []
  }
 ],
 "metadata": {
  "kernelspec": {
   "display_name": "Python 3",
   "language": "python",
   "name": "python3"
  },
  "language_info": {
   "codemirror_mode": {
    "name": "ipython",
    "version": 3
   },
   "file_extension": ".py",
   "mimetype": "text/x-python",
   "name": "python",
   "nbconvert_exporter": "python",
   "pygments_lexer": "ipython3",
   "version": "3.12.1"
  }
 },
 "nbformat": 4,
 "nbformat_minor": 5
}
